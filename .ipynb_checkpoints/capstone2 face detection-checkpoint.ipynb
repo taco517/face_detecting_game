{
 "cells": [
  {
   "cell_type": "code",
   "execution_count": 2,
   "metadata": {},
   "outputs": [
    {
     "name": "stderr",
     "output_type": "stream",
     "text": [
      "[ WARN:0@7.574] global /io/opencv/modules/videoio/src/cap_v4l.cpp (902) open VIDEOIO(V4L2:/dev/video0): can't open camera by index\n"
     ]
    },
    {
     "ename": "ValueError",
     "evalue": "high <= 0",
     "output_type": "error",
     "traceback": [
      "\u001b[0;31m---------------------------------------------------------------------------\u001b[0m",
      "\u001b[0;31mValueError\u001b[0m                                Traceback (most recent call last)",
      "Input \u001b[0;32mIn [2]\u001b[0m, in \u001b[0;36m<cell line: 14>\u001b[0;34m()\u001b[0m\n\u001b[1;32m     11\u001b[0m cap_height \u001b[38;5;241m=\u001b[39m cap\u001b[38;5;241m.\u001b[39mget(cv2\u001b[38;5;241m.\u001b[39mCAP_PROP_FRAME_HEIGHT)\n\u001b[1;32m     13\u001b[0m \u001b[38;5;66;03m#intial dot is random about the middle of the screen ensure that the dot is about the middle of the screen since the cascade classifier only detects full frontal faces\u001b[39;00m\n\u001b[0;32m---> 14\u001b[0m dot_position \u001b[38;5;241m=\u001b[39m (\u001b[43mnp\u001b[49m\u001b[38;5;241;43m.\u001b[39;49m\u001b[43mrandom\u001b[49m\u001b[38;5;241;43m.\u001b[39;49m\u001b[43mrandint\u001b[49m\u001b[43m(\u001b[49m\u001b[38;5;241;43m0.2\u001b[39;49m\u001b[38;5;241;43m*\u001b[39;49m\u001b[43mcap_width\u001b[49m\u001b[43m,\u001b[49m\u001b[43m \u001b[49m\u001b[38;5;241;43m0.7\u001b[39;49m\u001b[38;5;241;43m*\u001b[39;49m\u001b[43mcap_width\u001b[49m\u001b[43m)\u001b[49m, np\u001b[38;5;241m.\u001b[39mrandom\u001b[38;5;241m.\u001b[39mrandint(\u001b[38;5;241m0.2\u001b[39m\u001b[38;5;241m*\u001b[39mcap_height, \u001b[38;5;241m0.7\u001b[39m\u001b[38;5;241m*\u001b[39mcap_height))\n\u001b[1;32m     16\u001b[0m \u001b[38;5;66;03m#initialize face position at the middle of the screen\u001b[39;00m\n\u001b[1;32m     17\u001b[0m face_position \u001b[38;5;241m=\u001b[39m (cap_width \u001b[38;5;241m/\u001b[39m\u001b[38;5;241m/\u001b[39m \u001b[38;5;241m2\u001b[39m, cap_height \u001b[38;5;241m/\u001b[39m\u001b[38;5;241m/\u001b[39m \u001b[38;5;241m2\u001b[39m)\n",
      "File \u001b[0;32mmtrand.pyx:748\u001b[0m, in \u001b[0;36mnumpy.random.mtrand.RandomState.randint\u001b[0;34m()\u001b[0m\n",
      "File \u001b[0;32m_bounded_integers.pyx:1247\u001b[0m, in \u001b[0;36mnumpy.random._bounded_integers._rand_int64\u001b[0;34m()\u001b[0m\n",
      "\u001b[0;31mValueError\u001b[0m: high <= 0"
     ]
    }
   ],
   "source": [
    "import cv2\n",
    "import numpy as np\n",
    "\n",
    "face_cascade = cv2.CascadeClassifier('haarcascade_frontalface_default.xml')\n",
    "\n",
    "#load camera\n",
    "cap = cv2.VideoCapture(0)\n",
    "\n",
    "#determine the size of the capture\n",
    "cap_width = cap.get(cv2.CAP_PROP_FRAME_WIDTH)\n",
    "cap_height = cap.get(cv2.CAP_PROP_FRAME_HEIGHT)\n",
    "\n",
    "#intial dot is random about the middle of the screen ensure that the dot is about the middle of the screen since the cascade classifier only detects full frontal faces\n",
    "dot_position = (np.random.randint(0.2*cap_width, 0.7*cap_width), np.random.randint(0.2*cap_height, 0.7*cap_height))\n",
    "\n",
    "#initialize face position at the middle of the screen\n",
    "face_position = (cap_width // 2, cap_height // 2)\n",
    "\n",
    "#initialize starting score\n",
    "score = 0"
   ]
  },
  {
   "cell_type": "code",
   "execution_count": 2,
   "metadata": {},
   "outputs": [],
   "source": [
    "while True:\n",
    "    boolean, frame = cap.read()\n",
    "\n",
    "    gray = cv2.cvtColor(frame, cv2.COLOR_BGR2GRAY)\n",
    "\n",
    "    #the parameters are tweaked to improve accuracy such as the minimum and maximum face size \n",
    "    faces = face_cascade.detectMultiScale(gray, 2, 3, minSize=(100, 100), maxSize=(1000, 1000))\n",
    "\n",
    "    # draw the red circle using the dot_position as the coordinates\n",
    "    cv2.circle(frame, dot_position, 15, (0, 0, 255), -1)\n",
    "\n",
    "    # for loop for the detected faces\n",
    "    for (x, y, w, h) in faces:\n",
    "        \n",
    "        # draw green rectangle with a cross on the face\n",
    "        cv2.rectangle(frame, (x, y), (x + w, y + h), (0, 255, 0), 1)\n",
    "        cv2.line(frame, (x, y), (x + w, y + h), (0, 255, 0), 1)\n",
    "        cv2.line(frame, (x + w, y), (x, y + h), (0, 255, 0), 1)\n",
    "\n",
    "        # the position of the face is detected and the velocity is detected by subtracting last face position to the current face position\n",
    "        # the face detection can work without accounting for the velocity but is placed there to improve the jittering\n",
    "        face_x = x + w // 2\n",
    "        face_y = y + h // 2\n",
    "        face_position = (face_x, face_y)\n",
    "        face_velocity = (face_x - face_position[0], face_y - face_position[1])\n",
    "\n",
    "        # the approximation of the nose coordinates is the sum of the position and the velocity \n",
    "        nose_x = face_position[0] + face_velocity[0]\n",
    "        nose_y = face_position[1] + face_velocity[1]\n",
    "\n",
    "        # if fucntion to detect if the coordinates of the nose is near the position of the red dot, if true the dot will change positions and the score will increase by one\n",
    "        if (nose_x - dot_position[0]) ** 2 + (nose_y - dot_position[1]) ** 2 < 300 :\n",
    "            dot_position = (np.random.randint(0.2*frame.shape[1], 0.7*frame.shape[1]), np.random.randint(0.2*frame.shape[0], 0.7*frame.shape[0]))\n",
    "            score +=1\n",
    "        \n",
    "        # the score tally \n",
    "        cv2.putText(frame, 'Score: ' + str(score), (x, y - 10), cv2.FONT_HERSHEY_PLAIN, 1.5, (0, 255, 0), 1, cv2.LINE_AA)\n",
    "\n",
    "    cv2.imshow('Face Detection Game', frame)\n",
    "\n",
    "    # close the game\n",
    "    if cv2.waitKey(1) & 0xFF == ord('x'):\n",
    "        break\n",
    "\n",
    "cap.release()\n",
    "cv2.destroyAllWindows()"
   ]
  }
 ],
 "metadata": {
  "kernelspec": {
   "display_name": "Python 3 (ipykernel)",
   "language": "python",
   "name": "python3"
  },
  "language_info": {
   "codemirror_mode": {
    "name": "ipython",
    "version": 3
   },
   "file_extension": ".py",
   "mimetype": "text/x-python",
   "name": "python",
   "nbconvert_exporter": "python",
   "pygments_lexer": "ipython3",
   "version": "3.8.10"
  },
  "vscode": {
   "interpreter": {
    "hash": "916dbcbb3f70747c44a77c7bcd40155683ae19c65e1c03b4aa3499c5328201f1"
   }
  }
 },
 "nbformat": 4,
 "nbformat_minor": 2
}
